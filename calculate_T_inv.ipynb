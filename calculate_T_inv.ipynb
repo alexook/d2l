{
 "cells": [
  {
   "cell_type": "code",
   "execution_count": 54,
   "id": "f00cfbd8",
   "metadata": {},
   "outputs": [],
   "source": [
    "import numpy\n",
    "np.set_printoptions(precision=8, suppress=True)"
   ]
  },
  {
   "cell_type": "code",
   "execution_count": 55,
   "id": "edd6a3eb",
   "metadata": {},
   "outputs": [],
   "source": [
    "# one step func\n",
    "def T_inv(m):\n",
    "    m_inv = np.zeros((4, 4))\n",
    "    m_inv[:3, :3] = m[:3, :3].T\n",
    "    m_inv[:3, 3] = np.dot(-m[:3, :3].T ,m[:3, 3])\n",
    "    m_inv[3, 3] = 1\n",
    "    \n",
    "    return m_inv"
   ]
  },
  {
   "cell_type": "code",
   "execution_count": 64,
   "id": "38899e6e",
   "metadata": {},
   "outputs": [],
   "source": [
    "m = [[0.0013861226083627316,  0.9999877848380936,     0.004744348081373055,  -0.006740962728286615],\n",
    "     [0.9999983768131799,    -0.001391567327544259,   0.0011445135989464673,  0.0030275147117085487],\n",
    "     [0.0011511016983080883,  0.0047427539442347014, -0.9999880905540347,    -0.001127656409883309],\n",
    "     [0.0, 0.0, 0.0, 1.0]]\n",
    "\n",
    "cam0 = [[0.018838379228253904, -0.9998206730555423, 0.0019331835954350396, 0.0015057845240342754],\n",
    "        [-0.0011499189320001713, -0.0019551918497311416, -0.9999974274523307, 0.007756314231201401],\n",
    "        [0.9998218807140105, 0.018836107761209864, -0.0011865453660810377, -0.049890705309496935],\n",
    "        [0.0, 0.0, 0.0, 1.0]]\n",
    "\n",
    "\n",
    "\n",
    "cam1 = [[0.019318485824922654, -0.9998118341848503, 0.0017585020209882618, -0.04836218672492272],\n",
    "        [-0.0009044232386054563, -0.001776304854874844, -0.9999980133778609, 0.007903278603917525],\n",
    "        [0.9998129715722026, 0.01931685701629815, -0.0009385685772290708, -0.049562251185862376],\n",
    "        [0.0, 0.0, 0.0, 1.0]]"
   ]
  },
  {
   "cell_type": "code",
   "execution_count": 60,
   "id": "59f97953",
   "metadata": {},
   "outputs": [
    {
     "data": {
      "text/plain": [
       "array([[ 0.00138612,  0.99998778,  0.00474435, -0.00674096],\n",
       "       [ 0.99999838, -0.00139157,  0.00114451,  0.00302751],\n",
       "       [ 0.0011511 ,  0.00474275, -0.99998809, -0.00112766],\n",
       "       [ 0.        ,  0.        ,  0.        ,  1.        ]])"
      ]
     },
     "execution_count": 60,
     "metadata": {},
     "output_type": "execute_result"
    }
   ],
   "source": [
    "A = np.array(m)\n",
    "A\n"
   ]
  },
  {
   "cell_type": "code",
   "execution_count": 66,
   "id": "97e5ec35",
   "metadata": {},
   "outputs": [
    {
     "name": "stdout",
     "output_type": "stream",
     "text": [
      "[[ 0.01883838 -0.99982067  0.00193318  0.00150578]\n",
      " [-0.00114992 -0.00195519 -0.99999743  0.00775631]\n",
      " [ 0.99982188  0.01883611 -0.00118655 -0.04989071]\n",
      " [ 0.          0.          0.          1.        ]]\n",
      "\n",
      "\n",
      "\n",
      "\n",
      "[[ 0.01931849 -0.99981183  0.0017585  -0.04836219]\n",
      " [-0.00090442 -0.0017763  -0.99999801  0.00790328]\n",
      " [ 0.99981297  0.01931686 -0.00093857 -0.04956225]\n",
      " [ 0.          0.          0.          1.        ]]\n"
     ]
    }
   ],
   "source": [
    "cam0_m = np.array(cam0)\n",
    "cam1_m = np.array(cam1)\n",
    "\n",
    "print(cam0_m)\n",
    "print('\\n\\n\\n')\n",
    "print(cam1_m)"
   ]
  },
  {
   "cell_type": "code",
   "execution_count": 67,
   "id": "22c4812d",
   "metadata": {},
   "outputs": [
    {
     "name": "stdout",
     "output_type": "stream",
     "text": [
      "[[ 0.01883838 -0.00114992  0.99982188  0.04986237]\n",
      " [-0.99982067 -0.00195519  0.01883611  0.00246043]\n",
      " [ 0.00193318 -0.99999743 -0.00118655  0.00769419]\n",
      " [ 0.          0.          0.          1.        ]]\n",
      "\n",
      "\n",
      "\n",
      "\n",
      "[[ 0.01931849 -0.00090442  0.99981297  0.05049441]\n",
      " [-0.99981183 -0.0017763   0.01931686 -0.04738166]\n",
      " [ 0.0017585  -0.99999801 -0.00093857  0.00794179]\n",
      " [ 0.          0.          0.          1.        ]]\n"
     ]
    }
   ],
   "source": [
    "cam0_inv = T_inv(cam0_m)\n",
    "cam1_inv = T_inv(cam1_m)\n",
    "\n",
    "print(cam0_inv)\n",
    "print('\\n\\n\\n')\n",
    "print(cam1_inv)"
   ]
  },
  {
   "cell_type": "code",
   "execution_count": 61,
   "id": "7212d550",
   "metadata": {},
   "outputs": [
    {
     "data": {
      "text/plain": [
       "array([[ 0.00138612,  0.99999838,  0.0011511 , -0.00301687],\n",
       "       [ 0.99998778, -0.00139157,  0.00474275,  0.00675044],\n",
       "       [ 0.00474435,  0.00114451, -0.99998809, -0.00109913],\n",
       "       [ 0.        ,  0.        ,  0.        ,  1.        ]])"
      ]
     },
     "execution_count": 61,
     "metadata": {},
     "output_type": "execute_result"
    }
   ],
   "source": [
    "T_inv(A)"
   ]
  },
  {
   "cell_type": "code",
   "execution_count": null,
   "id": "a02183c5",
   "metadata": {},
   "outputs": [],
   "source": []
  },
  {
   "cell_type": "code",
   "execution_count": null,
   "id": "51b38535",
   "metadata": {},
   "outputs": [],
   "source": []
  },
  {
   "cell_type": "code",
   "execution_count": null,
   "id": "1cb60314",
   "metadata": {},
   "outputs": [],
   "source": []
  },
  {
   "cell_type": "code",
   "execution_count": null,
   "id": "5d482e69",
   "metadata": {},
   "outputs": [],
   "source": []
  },
  {
   "cell_type": "code",
   "execution_count": null,
   "id": "27c423bb",
   "metadata": {},
   "outputs": [],
   "source": []
  },
  {
   "cell_type": "code",
   "execution_count": 38,
   "id": "33d8e09c",
   "metadata": {},
   "outputs": [],
   "source": [
    "import numpy as np\n",
    "np.set_printoptions(precision=8, suppress=True)\n",
    "A = np.array([[0.00128876, 0.99999914, -0.00023326, -0.00323207],\n",
    "              [0.99999859, -0.00128851, 0.00107949, -0.06857642],\n",
    "              [0.00107919, -0.00023466, -0.99999939, -0.00014712],\n",
    "              [0, 0, 0, 1]])\n",
    "\n"
   ]
  },
  {
   "cell_type": "code",
   "execution_count": 45,
   "id": "b89c01e8",
   "metadata": {},
   "outputs": [
    {
     "data": {
      "text/plain": [
       "array([[ 0.00128876,  0.99999859,  0.00107919],\n",
       "       [ 0.99999914, -0.00128851, -0.00023466],\n",
       "       [-0.00023326,  0.00107949, -0.99999939]])"
      ]
     },
     "execution_count": 45,
     "metadata": {},
     "output_type": "execute_result"
    }
   ],
   "source": [
    "A[:3, :3]"
   ]
  },
  {
   "cell_type": "code",
   "execution_count": 46,
   "id": "19fb82b9",
   "metadata": {},
   "outputs": [
    {
     "data": {
      "text/plain": [
       "array([ 0.06858065,  0.00314367, -0.00007385])"
      ]
     },
     "execution_count": 46,
     "metadata": {},
     "output_type": "execute_result"
    }
   ],
   "source": [
    "A[:3, 3]"
   ]
  },
  {
   "cell_type": "code",
   "execution_count": 47,
   "id": "8eaad4fc",
   "metadata": {},
   "outputs": [
    {
     "data": {
      "text/plain": [
       "array([[0., 0., 0., 0.],\n",
       "       [0., 0., 0., 0.],\n",
       "       [0., 0., 0., 0.],\n",
       "       [0., 0., 0., 0.]])"
      ]
     },
     "execution_count": 47,
     "metadata": {},
     "output_type": "execute_result"
    }
   ],
   "source": [
    "R_inv = np.zeros((4, 4))\n",
    "R_inv"
   ]
  },
  {
   "cell_type": "code",
   "execution_count": 48,
   "id": "2a2d0b74",
   "metadata": {},
   "outputs": [
    {
     "name": "stdout",
     "output_type": "stream",
     "text": [
      "[[ 0.00128876  0.99999914 -0.00023326  0.        ]\n",
      " [ 0.99999859 -0.00128851  0.00107949  0.        ]\n",
      " [ 0.00107919 -0.00023466 -0.99999939  0.        ]\n",
      " [ 0.          0.          0.          0.        ]]\n"
     ]
    }
   ],
   "source": [
    "R_inv[:3, :3] = A[:3, :3].T\n",
    "print(R_inv)"
   ]
  },
  {
   "cell_type": "code",
   "execution_count": 49,
   "id": "6cd50ee4",
   "metadata": {},
   "outputs": [
    {
     "name": "stdout",
     "output_type": "stream",
     "text": [
      "[[ 0.00128876  0.99999914 -0.00023326 -0.00323207]\n",
      " [ 0.99999859 -0.00128851  0.00107949 -0.06857642]\n",
      " [ 0.00107919 -0.00023466 -0.99999939 -0.00014712]\n",
      " [ 0.          0.          0.          0.        ]]\n"
     ]
    }
   ],
   "source": [
    "R_inv[:3, 3] = np.dot(-A[:3, :3].T ,A[:3, 3])\n",
    "print(R_inv)"
   ]
  },
  {
   "cell_type": "code",
   "execution_count": 50,
   "id": "e3105771",
   "metadata": {},
   "outputs": [
    {
     "name": "stdout",
     "output_type": "stream",
     "text": [
      "[[ 0.00128876  0.99999914 -0.00023326 -0.00323207]\n",
      " [ 0.99999859 -0.00128851  0.00107949 -0.06857642]\n",
      " [ 0.00107919 -0.00023466 -0.99999939 -0.00014712]\n",
      " [ 0.          0.          0.          1.        ]]\n"
     ]
    }
   ],
   "source": [
    "R_inv[3, 3] = 1\n",
    "print(R_inv)"
   ]
  },
  {
   "cell_type": "code",
   "execution_count": 51,
   "id": "e350528a",
   "metadata": {},
   "outputs": [],
   "source": [
    "\n",
    "\n",
    "# one step func\n",
    "def T_inv(m):\n",
    "    m_inv = np.zeros((4, 4))\n",
    "    m_inv[:3, :3] = m[:3, :3].T\n",
    "    m_inv[:3, 3] = np.dot(-m[:3, :3].T ,m[:3, 3])\n",
    "    m_inv[3, 3] = 1\n",
    "    \n",
    "    return m_inv"
   ]
  },
  {
   "cell_type": "code",
   "execution_count": null,
   "id": "645526ee",
   "metadata": {},
   "outputs": [],
   "source": []
  }
 ],
 "metadata": {
  "kernelspec": {
   "display_name": "Python 3 (ipykernel)",
   "language": "python",
   "name": "python3"
  },
  "language_info": {
   "codemirror_mode": {
    "name": "ipython",
    "version": 3
   },
   "file_extension": ".py",
   "mimetype": "text/x-python",
   "name": "python",
   "nbconvert_exporter": "python",
   "pygments_lexer": "ipython3",
   "version": "3.8.10"
  }
 },
 "nbformat": 4,
 "nbformat_minor": 5
}
