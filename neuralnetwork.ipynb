{
 "cells": [
  {
   "cell_type": "code",
   "execution_count": 5,
   "id": "51b7274f-6b30-4c5a-9cc6-cd70922ae1c2",
   "metadata": {
    "scrolled": true
   },
   "outputs": [
    {
     "name": "stdout",
     "output_type": "stream",
     "text": [
      "[[1.02680555 1.05361109 1.08041664 1.10722218]\n",
      " [1.02680555 1.05361109 1.08041664 1.10722218]\n",
      " [1.02680555 1.05361109 1.08041664 1.10722218]]\n",
      "\n",
      "\n",
      "[[1.13146258 1.13146258 1.13146258]\n",
      " [1.13146258 1.13146258 1.13146258]]\n",
      "\n",
      "\n",
      "[[1.36338117 1.36338117]]\n",
      "\n",
      "\n",
      "4.0389678347315804e-28\n",
      "\n",
      "\n",
      "[[100.]]\n"
     ]
    }
   ],
   "source": [
    "import numpy as np\n",
    "\n",
    "\n",
    "def Train(X,Y,lr,epochs):\n",
    "    # 初始化权重矩阵\n",
    "    W1 = np.ones((3,4))\n",
    "    W2 = np.ones((2,3))\n",
    "    W3 = np.ones((1,2))\n",
    "    \n",
    "    \n",
    "    for i in range(epochs):\n",
    "        # 正向传播\n",
    "        h = np.dot(W1,X)    # 第一层\n",
    "        k = np.dot(W2,h)    # 第二层\n",
    "        y = np.dot(W3,k)\n",
    "        # 求loss\n",
    "        loss = np.sum((Y-y)**2)/2\n",
    "        # 求误差项\n",
    "        S3 = y-Y\n",
    "        S2 = np.dot(W3.T, S3)\n",
    "        S1 = np.dot(W2.T, S2)\n",
    "        \n",
    "        # 求偏导\n",
    "        dW1 = np.dot(S1, X.T)\n",
    "        dW2 = np.dot(S2, h.T)\n",
    "        dW3 = np.dot(S3, k.T)\n",
    "        # 更新w\n",
    "        W1 = W1 - lr*dW1\n",
    "        W2 = W2 - lr*dW2\n",
    "        W3 = W3 - lr*dW3\n",
    "        \n",
    "    return W1,W2,W3,loss\n",
    "\n",
    "\n",
    "\n",
    "# 创建数据\n",
    "X = np.array([[1],\n",
    "              [2],\n",
    "              [3],\n",
    "              [4]\n",
    "                ])\n",
    "\n",
    "Y = np.array([[100],\n",
    "              ])\n",
    "\n",
    "# 训练\n",
    "W1, W2, W3, loss= Train(X,Y,0.0001, 500)\n",
    "print(W1)\n",
    "print('\\n')\n",
    "print(W2)\n",
    "print('\\n')\n",
    "print(W3)\n",
    "print('\\n')\n",
    "print(loss)\n",
    "print('\\n')\n",
    "# 预测(其实就相当于进行一次正向传播)\n",
    "h = np.dot(W1,X)\n",
    "k = np.dot(W2,h)\n",
    "y = np.dot(W3,k)\n",
    "print(y)"
   ]
  },
  {
   "cell_type": "code",
   "execution_count": 7,
   "id": "440ec222-166a-4e74-98dc-932bcc230773",
   "metadata": {},
   "outputs": [
    {
     "data": {
      "text/plain": [
       "array([[36.67352971],\n",
       "       [36.67352971]])"
      ]
     },
     "execution_count": 7,
     "metadata": {},
     "output_type": "execute_result"
    }
   ],
   "source": [
    "k"
   ]
  },
  {
   "cell_type": "code",
   "execution_count": 3,
   "id": "4405e8c4-814a-4428-99e6-d45ff40be798",
   "metadata": {},
   "outputs": [
    {
     "name": "stdout",
     "output_type": "stream",
     "text": [
      "(4, 1)\n"
     ]
    },
    {
     "ename": "ValueError",
     "evalue": "shapes (2,3) and (1,) not aligned: 3 (dim 1) != 1 (dim 0)",
     "output_type": "error",
     "traceback": [
      "\u001b[0;31m---------------------------------------------------------------------------\u001b[0m",
      "\u001b[0;31mValueError\u001b[0m                                Traceback (most recent call last)",
      "Cell \u001b[0;32mIn[3], line 48\u001b[0m\n\u001b[1;32m     45\u001b[0m     \u001b[38;5;28;01mreturn\u001b[39;00m W1,W2,W3,loss\n\u001b[1;32m     47\u001b[0m \u001b[38;5;66;03m# 训练\u001b[39;00m\n\u001b[0;32m---> 48\u001b[0m W1, W2, W3, loss\u001b[38;5;241m=\u001b[39m \u001b[43mTrain\u001b[49m\u001b[43m(\u001b[49m\u001b[43mX\u001b[49m\u001b[43m,\u001b[49m\u001b[43mY\u001b[49m\u001b[43m,\u001b[49m\u001b[38;5;241;43m0.0001\u001b[39;49m\u001b[43m,\u001b[49m\u001b[43m \u001b[49m\u001b[38;5;241;43m10\u001b[39;49m\u001b[43m)\u001b[49m\n\u001b[1;32m     49\u001b[0m \u001b[38;5;28mprint\u001b[39m(W1)\n\u001b[1;32m     50\u001b[0m \u001b[38;5;28mprint\u001b[39m(\u001b[38;5;124m'\u001b[39m\u001b[38;5;130;01m\\n\u001b[39;00m\u001b[38;5;124m'\u001b[39m)\n",
      "Cell \u001b[0;32mIn[3], line 25\u001b[0m, in \u001b[0;36mTrain\u001b[0;34m(X, Y, lr, epochs)\u001b[0m\n\u001b[1;32m     23\u001b[0m h \u001b[38;5;241m=\u001b[39m np\u001b[38;5;241m.\u001b[39mdot(W1,tx)    \u001b[38;5;66;03m# 第一层\u001b[39;00m\n\u001b[1;32m     24\u001b[0m h_relu \u001b[38;5;241m=\u001b[39m np\u001b[38;5;241m.\u001b[39mmax(h, \u001b[38;5;241m0\u001b[39m)\n\u001b[0;32m---> 25\u001b[0m k \u001b[38;5;241m=\u001b[39m \u001b[43mnp\u001b[49m\u001b[38;5;241;43m.\u001b[39;49m\u001b[43mdot\u001b[49m\u001b[43m(\u001b[49m\u001b[43mW2\u001b[49m\u001b[43m,\u001b[49m\u001b[43mh_relu\u001b[49m\u001b[43m)\u001b[49m    \u001b[38;5;66;03m# 第二层\u001b[39;00m\n\u001b[1;32m     26\u001b[0m k_relu \u001b[38;5;241m=\u001b[39m np\u001b[38;5;241m.\u001b[39mmax(k, \u001b[38;5;241m0\u001b[39m)\n\u001b[1;32m     27\u001b[0m y \u001b[38;5;241m=\u001b[39m np\u001b[38;5;241m.\u001b[39mdot(W3,k_relu)\n",
      "File \u001b[0;32m<__array_function__ internals>:200\u001b[0m, in \u001b[0;36mdot\u001b[0;34m(*args, **kwargs)\u001b[0m\n",
      "\u001b[0;31mValueError\u001b[0m: shapes (2,3) and (1,) not aligned: 3 (dim 1) != 1 (dim 0)"
     ]
    }
   ],
   "source": [
    "import numpy as np\n",
    "\n",
    "batch = 100\n",
    "\n",
    "#创建数据集\n",
    "X = np.random.randn(4, batch)\n",
    "Y = np.sum(X,axis=0)+10\n",
    "print(X[:,None,0].shape)\n",
    "\n",
    "\n",
    "\n",
    "def Train(X,Y,lr,epochs):\n",
    "    # 初始化权重矩阵\n",
    "    W1 = np.random.randn(3,4)\n",
    "    W2 = np.random.randn(2,3)\n",
    "    W3 = np.random.randn(1,2)\n",
    "    \n",
    "    \n",
    "    for i in range(epochs):\n",
    "        for j in range(batch):\n",
    "            # 正向传播\n",
    "            tx = X[:,None,j]\n",
    "            h = np.dot(W1,tx)    # 第一层\n",
    "            h_relu = np.max(h, 0)\n",
    "            k = np.dot(W2,h_relu)    # 第二层\n",
    "            k_relu = np.max(k, 0)\n",
    "            y = np.dot(W3,k_relu)\n",
    "            # 求loss\n",
    "            loss = np.sum((Y[j]-y)**2)/2\n",
    "            # 求误差项\n",
    "            S3 = y-Y[j]\n",
    "            S2_relu = (S3 > 0) * S3\n",
    "            S2 = np.dot(W3.T, S3)\n",
    "            S1 = np.dot(W2.T, S2)\n",
    "\n",
    "            # 求偏导\n",
    "            dW1 = np.dot(S1, tx.T)\n",
    "            dW2 = np.dot(S2, h.T)\n",
    "            dW3 = np.dot(S3, k.T)\n",
    "            # 更新w\n",
    "            W1 = W1 - lr*dW1\n",
    "            W2 = W2 - lr*dW2\n",
    "            W3 = W3 - lr*dW3\n",
    "        \n",
    "    return W1,W2,W3,loss\n",
    "\n",
    "# 训练\n",
    "W1, W2, W3, loss= Train(X,Y,0.0001, 10)\n",
    "print(W1)\n",
    "print('\\n')\n",
    "print(W2)\n",
    "print('\\n')\n",
    "print(W3)\n",
    "print('\\n')\n",
    "print(loss)\n",
    "print('\\n')\n",
    "\n"
   ]
  },
  {
   "cell_type": "code",
   "execution_count": 62,
   "id": "52dee5d1-f791-41a6-9cc3-8b2acdb1279a",
   "metadata": {},
   "outputs": [
    {
     "name": "stdout",
     "output_type": "stream",
     "text": [
      "[[10.22479294]]\n"
     ]
    }
   ],
   "source": [
    "# 预测(其实就相当于进行一次正向传播)\n",
    "h = np.dot(W1,[[1],[2],[3],[4]])\n",
    "k = np.dot(W2,h)\n",
    "y = np.dot(W3,k)\n",
    "print(y)"
   ]
  },
  {
   "cell_type": "code",
   "execution_count": 51,
   "id": "513ecb87-38e5-48e8-9737-b6b4c1049fa9",
   "metadata": {},
   "outputs": [
    {
     "data": {
      "text/plain": [
       "1.6944300965938406"
      ]
     },
     "execution_count": 51,
     "metadata": {},
     "output_type": "execute_result"
    }
   ],
   "source": [
    "Y[0]"
   ]
  },
  {
   "cell_type": "code",
   "execution_count": 11,
   "id": "dd86dce8-5b51-46f0-a266-27f7ea2673b6",
   "metadata": {},
   "outputs": [
    {
     "data": {
      "text/plain": [
       "(4, 1000)"
      ]
     },
     "execution_count": 11,
     "metadata": {},
     "output_type": "execute_result"
    }
   ],
   "source": [
    "X = np.random.randn(4, 1000)\n",
    "X.shape"
   ]
  },
  {
   "cell_type": "code",
   "execution_count": 14,
   "id": "231ad350-f0b2-4488-b222-7f6849c1876c",
   "metadata": {},
   "outputs": [
    {
     "data": {
      "text/plain": [
       "(1000,)"
      ]
     },
     "execution_count": 14,
     "metadata": {},
     "output_type": "execute_result"
    }
   ],
   "source": [
    "np.sum(X,axis=0).shape"
   ]
  },
  {
   "cell_type": "code",
   "execution_count": 44,
   "id": "7f6a8b1b-e98e-4085-9f69-3d3db22f8405",
   "metadata": {},
   "outputs": [
    {
     "data": {
      "text/plain": [
       "(4, 1)"
      ]
     },
     "execution_count": 44,
     "metadata": {},
     "output_type": "execute_result"
    }
   ],
   "source": [
    "X = np.random.randn(4, 100)\n",
    "Y = np.sum(X,axis=0)\n",
    "\n",
    "a = X[:,None,0].shape\n",
    "a"
   ]
  },
  {
   "cell_type": "code",
   "execution_count": 40,
   "id": "6e5e984c-b600-43da-bb2b-2b206507e31c",
   "metadata": {},
   "outputs": [
    {
     "data": {
      "text/plain": [
       "2.9262022659207894"
      ]
     },
     "execution_count": 40,
     "metadata": {},
     "output_type": "execute_result"
    }
   ],
   "source": [
    "\n",
    "(a[0,0] + a[1,0] + a[2,0] + a[3,0])"
   ]
  },
  {
   "cell_type": "code",
   "execution_count": 41,
   "id": "ef05b311-addc-4053-a25d-4ce0b864d672",
   "metadata": {},
   "outputs": [
    {
     "data": {
      "text/plain": [
       "2.9262022659207894"
      ]
     },
     "execution_count": 41,
     "metadata": {},
     "output_type": "execute_result"
    }
   ],
   "source": [
    "Y[0]"
   ]
  },
  {
   "cell_type": "code",
   "execution_count": 77,
   "id": "e7b7096c-04f7-433a-87d3-668b9732c0d0",
   "metadata": {},
   "outputs": [
    {
     "data": {
      "text/plain": [
       "array([[1., 1., 1., 1.]])"
      ]
     },
     "execution_count": 77,
     "metadata": {},
     "output_type": "execute_result"
    }
   ],
   "source": [
    "np.ones((1,4))"
   ]
  },
  {
   "cell_type": "code",
   "execution_count": 80,
   "id": "233c3688-6b97-441c-99b1-52b26ef9b0c0",
   "metadata": {},
   "outputs": [
    {
     "data": {
      "text/plain": [
       "array([[1],\n",
       "       [1],\n",
       "       [1]])"
      ]
     },
     "execution_count": 80,
     "metadata": {},
     "output_type": "execute_result"
    }
   ],
   "source": [
    "X1"
   ]
  },
  {
   "cell_type": "code",
   "execution_count": 81,
   "id": "c7684a4a-88b0-4573-adc3-510747bbf013",
   "metadata": {},
   "outputs": [
    {
     "data": {
      "text/plain": [
       "array([[5, 2, 3, 4]])"
      ]
     },
     "execution_count": 81,
     "metadata": {},
     "output_type": "execute_result"
    }
   ],
   "source": [
    "X2"
   ]
  },
  {
   "cell_type": "code",
   "execution_count": 8,
   "id": "369dd70c-8368-4f6d-afbc-7306c3b9bb28",
   "metadata": {},
   "outputs": [
    {
     "name": "stdout",
     "output_type": "stream",
     "text": [
      "True\n"
     ]
    }
   ],
   "source": [
    "import torch\n",
    "flag = torch.cuda.is_available()\n",
    "print(flag)"
   ]
  },
  {
   "cell_type": "code",
   "execution_count": 9,
   "id": "0f4c4f95",
   "metadata": {},
   "outputs": [
    {
     "name": "stdout",
     "output_type": "stream",
     "text": [
      "cuda:0\n",
      "NVIDIA GeForce RTX 3060 Laptop GPU\n",
      "tensor([[0.3986, 0.7106, 0.1637],\n",
      "        [0.4705, 0.1767, 0.3417],\n",
      "        [0.1905, 0.7323, 0.1180]], device='cuda:0')\n"
     ]
    }
   ],
   "source": [
    "device = torch.device(\"cuda:0\")\n",
    "print(device)\n",
    "print(torch.cuda.get_device_name(0))\n",
    "print(torch.rand(3,3).cuda()) \n"
   ]
  }
 ],
 "metadata": {
  "kernelspec": {
   "display_name": "Python 3 (ipykernel)",
   "language": "python",
   "name": "python3"
  },
  "language_info": {
   "codemirror_mode": {
    "name": "ipython",
    "version": 3
   },
   "file_extension": ".py",
   "mimetype": "text/x-python",
   "name": "python",
   "nbconvert_exporter": "python",
   "pygments_lexer": "ipython3",
   "version": "3.8.10"
  }
 },
 "nbformat": 4,
 "nbformat_minor": 5
}
